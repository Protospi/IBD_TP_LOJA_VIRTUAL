{
  "nbformat": 4,
  "nbformat_minor": 0,
  "metadata": {
    "colab": {
      "name": "IBD_TP_LOJA_VIRTUAL.ipynb",
      "provenance": [],
      "collapsed_sections": []
    },
    "kernelspec": {
      "name": "python3",
      "display_name": "Python 3"
    }
  },
  "cells": [
    {
      "cell_type": "code",
      "metadata": {
        "id": "7k8FQmOEstmc",
        "outputId": "7108b444-d1ac-47f6-c9c0-dd72a5ddbf83",
        "colab": {
          "base_uri": "https://localhost:8080/",
          "height": 102
        }
      },
      "source": [
        "#@title Carrega Bibliotecas\n",
        "\n",
        "# Carrega Pacotes\n",
        "import requests\n",
        "from bs4 import BeautifulSoup\n",
        "import numpy as np\n",
        "import pandas as pd\n",
        "import datetime\n",
        "import random\n",
        "!pip install unidecode\n",
        "from unidecode import unidecode\n",
        "from sqlalchemy import create_engine \n"
      ],
      "execution_count": null,
      "outputs": [
        {
          "output_type": "stream",
          "text": [
            "Collecting unidecode\n",
            "\u001b[?25l  Downloading https://files.pythonhosted.org/packages/d0/42/d9edfed04228bacea2d824904cae367ee9efd05e6cce7ceaaedd0b0ad964/Unidecode-1.1.1-py2.py3-none-any.whl (238kB)\n",
            "\u001b[K     |████████████████████████████████| 245kB 2.8MB/s \n",
            "\u001b[?25hInstalling collected packages: unidecode\n",
            "Successfully installed unidecode-1.1.1\n"
          ],
          "name": "stdout"
        }
      ]
    },
    {
      "cell_type": "code",
      "metadata": {
        "id": "lQf0YgZctB2t"
      },
      "source": [
        "#@title Scrap Sobrenomes\n",
        "\n",
        "# Define Url de Sobrenomes\n",
        "url = 'https://www.procob.com/os-sobrenomes-mais-comuns-do-brasil/'\n",
        " \n",
        "# Conecta com URL\n",
        "reqs = requests.get(url)\n",
        " \n",
        "# Extrai informações de lista ordenada\n",
        "soup = BeautifulSoup(reqs.text, 'lxml')\n",
        " \n",
        "# Define Sobrenomes\n",
        "Sobrenomes = np.random.choice([tag.text for tag in soup.find_all(\"ol\")][0].split(), 90)"
      ],
      "execution_count": null,
      "outputs": []
    },
    {
      "cell_type": "code",
      "metadata": {
        "id": "YovDR5ZXxGwv"
      },
      "source": [
        "#@title Scrap Nome de Homens\n",
        "\n",
        "# Define Url de Homens\n",
        "url2 = 'https://www.minhavida.com.br/familia/materias/35919-100-nomes-para-meninos-mais-comuns-confira-lista'\n",
        "\n",
        "# Conecta com URL\n",
        "reqs = requests.get(url2)\n",
        "\n",
        "# Extrai informações de lista ordenada\n",
        "soup = BeautifulSoup(reqs.text, 'lxml')\n",
        "\n",
        "# Define Sobrenomes\n",
        "Homens = [tag.text for tag in soup.find_all(\"ul\")][1].split()\n"
      ],
      "execution_count": null,
      "outputs": []
    },
    {
      "cell_type": "code",
      "metadata": {
        "id": "_Jh0lwdgyGW2"
      },
      "source": [
        "#@title Scrap Nomes de Mulheres\n",
        "\n",
        "# Define Url de Mulheres\n",
        "url3 = 'https://www.minhavida.com.br/familia/materias/35925-100-nomes-para-meninas-mais-comuns-confira-lista'\n",
        "\n",
        "# Conecta com URL\n",
        "reqs = requests.get(url3)\n",
        "\n",
        "# Extrai informações de lista ordenada\n",
        "soup = BeautifulSoup(reqs.text, 'lxml')\n",
        "\n",
        "# Define Sobrenomes\n",
        "Mulheres = [tag.text for tag in soup.find_all(\"ul\")][1].split()\n"
      ],
      "execution_count": null,
      "outputs": []
    },
    {
      "cell_type": "code",
      "metadata": {
        "id": "6Qzs00lMYbQw"
      },
      "source": [
        "#@title Scrap Nomes de Produtos\n",
        "\n",
        "# Define Url de Melhores 10 celulares\n",
        "url4 = 'https://mobizoo.com.br/opiniao/celulares-mais-vendidos/'\n",
        "\n",
        "# Conecta com URL\n",
        "reqs = requests.get(url4)\n",
        "\n",
        "# Extrai informações da url\n",
        "soup = BeautifulSoup(reqs.text, 'lxml')\n",
        "\n",
        "# Define Produtos de Celulares\n",
        "Produtos_Celulares = [tag.text for tag in soup.find_all(\"th\")][5::4]\n",
        "\n",
        "# Define Url de Melhores Desktops\n",
        "url5 = 'https://spy.com/articles/gadgets/electronics/best-desktop-computers-reviews-247841/'\n",
        "\n",
        "# Conecta com URL\n",
        "reqs = requests.get(url5)\n",
        "\n",
        "# Extrai informações da url\n",
        "soup = BeautifulSoup(reqs.text, 'lxml')\n",
        "\n",
        "# Define Variavel auxiliar com titulos completos com categoria\n",
        "Produtos_Desktop = [tag.text for tag in soup.find_all(\"h2\")][:11]\n",
        "\n",
        "# Define Produtos Desktops \n",
        "Produtos_Desktop = list(map(lambda w: w.split(\". \", 1)[1], Produtos_Desktop))\n",
        "\n",
        "# Concatena Produtos\n",
        "Produtos = Produtos_Celulares + Produtos_Desktop\n"
      ],
      "execution_count": null,
      "outputs": []
    },
    {
      "cell_type": "code",
      "metadata": {
        "id": "D2_lcGE22K-F"
      },
      "source": [
        "#@title Gera emails e datas\n",
        "\n",
        "# Conding\n",
        "encoding = \"utf-8\"\n",
        "\n",
        "# Declara email de Clientes\n",
        "email_Cliente = [unidecode(i) + j for i, j in zip(list(Homens[0:89]), np.random.choice([\"@gmail.com\",\"@yahoo.com\",\"@bh.com\"], 90).tolist())] \n",
        "\n",
        "# Email de Fornecedor\n",
        "email_Fornecedor = [unidecode(i) + j for i, j in zip(list(Homens[90:99]), np.random.choice([\"@gmail.com\",\"@yahoo.com\",\"@bh.com\"], 90).tolist())]\n",
        "\n",
        "# Data de Inicio\n",
        "inicio = datetime.date(2020, 1, 1)\n",
        "fim = datetime.date(2020, 10, 1)\n",
        "\n",
        "# Calcula Data\n",
        "tempo_entre_datas = fim - inicio\n",
        "dias_entre_datas = tempo_entre_datas.days\n",
        "dias_aleatorios = random.randrange(dias_entre_datas)\n",
        "data_aleatoria = inicio + datetime.timedelta(days=dias_aleatorios)\n",
        "\n",
        "# Data Ordem\n",
        "Data_Ordem = pd.date_range(start = '2020-01-01', end = '2020-10-01', periods=5000)\n",
        "\n",
        "# Data Entrega\n",
        "Data_Entrega = [data + datetime.timedelta(days=random.randrange(dias_entre_datas)) for data in Data_Ordem]\n",
        "\n"
      ],
      "execution_count": null,
      "outputs": []
    },
    {
      "cell_type": "code",
      "metadata": {
        "id": "BXCsspALXHNY"
      },
      "source": [
        "#@title Declara tabelas (dataframes)\n",
        "\n",
        "# Declara data frame de Clientes com 500 clientes\n",
        "Cliente = pd.DataFrame({'ID_Cliente' : range(89),\n",
        "                       'Nome' : np.random.choice(Homens + Mulheres, 89).tolist(),\n",
        "                       'Email' : email_Cliente})\n",
        "\n",
        "\n",
        "# Declara data frame de Fornecedor com 50 Fornecedores\n",
        "Fornecedor = pd.DataFrame({'ID_Fornecedor' : range(9),\n",
        "                           'Nome' : Homens[90:99],\n",
        "                           'Email' : email_Fornecedor})\n",
        "\n",
        "# Declara data frame de Ordem com 5000 ordens\n",
        "Ordem = pd.DataFrame({'ID_Ordem' : range(5000),\n",
        "                      'ID_Cliente' : np.random.choice(range(500), 5000).tolist(),\n",
        "                      'ID_Produto' : np.random.choice(range(20), 5000).tolist(),\n",
        "                      'Data' : Data_Ordem})\n",
        "\n",
        "# Remove Horario da Coluna Data tablea Ordem\n",
        "Ordem['Data'] = [str(i) for i in pd.to_datetime(Ordem['Data']).dt.date]\n",
        "\n",
        "# Declara dataframe de Produto com 10 produtos\n",
        "Produto = pd.DataFrame({'ID_Produto' : range(21),\n",
        "                        'ID_Fornecedor' : np.random.choice(range(9), 21).tolist(),\n",
        "                        'Nome' : Produtos })\n",
        "\n",
        "# Declara data frame de entrega com 5000 entregas\n",
        "Entrega = pd.DataFrame({'ID_Entrega' : range(5000),\n",
        "                        'ID_Produto' : Ordem.ID_Produto,\n",
        "                        'Data' : Data_Entrega})\n",
        "\n",
        "# Remove Horario da Coluna Data tabela Entrega\n",
        "Entrega['Data'] = [str(i) for i in pd.to_datetime(Entrega['Data']).dt.date]\n",
        "\n",
        "# Declara Data Frame Sobrenome\n",
        "Sobrenome = pd.DataFrame({'ID_Cliente' : range(90),\n",
        "                          'Sobrenome' : Sobrenomes})\n"
      ],
      "execution_count": null,
      "outputs": []
    },
    {
      "cell_type": "code",
      "metadata": {
        "id": "EOwfe13BgaTa"
      },
      "source": [
        "#@title Define Funcao para converter panda em string SQL e cria motor\n",
        "\n",
        "# Define Funcao\n",
        "def para_sql(df, nome):\n",
        "  rows = df.to_records(index=False)\n",
        "  values = ', '.join(map(str, rows))\n",
        "  sql = \"INSERT INTO \"+ nome + \" VALUES {}\".format(values)\n",
        "  return sql.replace(\"\"\"\\'\"\"\", \"\"\"\\\"\"\"\")\n",
        "\n",
        "# Cria Motor de SQL \n",
        "engine = create_engine('sqlite:///ibdtp.db', echo = False) "
      ],
      "execution_count": null,
      "outputs": []
    },
    {
      "cell_type": "code",
      "metadata": {
        "id": "4ll9hCoW83z1",
        "outputId": "2454d1a8-59a1-4674-cb50-2c29b71fb22f",
        "colab": {
          "base_uri": "https://localhost:8080/",
          "height": 34
        }
      },
      "source": [
        "#@title Transforma Cliente em sql\n",
        "\n",
        "# Converte para SQL\n",
        "sql = para_sql(Cliente,\"Cliente\")\n",
        "\n",
        "# Apaga tabela se já existir\n",
        "engine.execute(\"DROP TABLE IF EXISTS Cliente;\")\n",
        "  \n",
        "# Gera tabela de Clientes\n",
        "engine.execute(\"CREATE TABLE Cliente ( \\\n",
        "                ID_Cliente mediumint(8) NOT NULL,\\\n",
        "                Nome varchar(255) default NULL,\\\n",
        "                Email varchar(255) default NULL,\\\n",
        "                PRIMARY KEY (ID_Cliente) \\\n",
        "                );\")\n",
        "\n",
        "# Popula tabela\n",
        "engine.execute(sql)"
      ],
      "execution_count": null,
      "outputs": [
        {
          "output_type": "execute_result",
          "data": {
            "text/plain": [
              "<sqlalchemy.engine.result.ResultProxy at 0x7f085c0916a0>"
            ]
          },
          "metadata": {
            "tags": []
          },
          "execution_count": 31
        }
      ]
    },
    {
      "cell_type": "code",
      "metadata": {
        "id": "LLShJpiJDQsb",
        "outputId": "af893e71-34e5-46bf-8813-620c19adb96a",
        "colab": {
          "base_uri": "https://localhost:8080/",
          "height": 34
        }
      },
      "source": [
        "#@title Transforma Sobrenome em sql\n",
        "\n",
        "# Converte para SQL\n",
        "sql = para_sql(Sobrenome,\"Sobrenome\")\n",
        "\n",
        "# Apaga tabela se já existir\n",
        "engine.execute(\"DROP TABLE IF EXISTS Sobrenome;\")\n",
        "  \n",
        "# Gera tabela Sobrenomes\n",
        "engine.execute(\"CREATE TABLE Sobrenome ( \\\n",
        "                ID_Cliente mediumint(8) NOT NULL, \\\n",
        "                Sobrenome varchar(255) default NULL, \\\n",
        "                PRIMARY KEY (ID_Cliente) \\\n",
        "                );\")\n",
        "\n",
        "# Popula tabela\n",
        "engine.execute(sql)"
      ],
      "execution_count": null,
      "outputs": [
        {
          "output_type": "execute_result",
          "data": {
            "text/plain": [
              "<sqlalchemy.engine.result.ResultProxy at 0x7f085ae76ac8>"
            ]
          },
          "metadata": {
            "tags": []
          },
          "execution_count": 32
        }
      ]
    },
    {
      "cell_type": "code",
      "metadata": {
        "id": "wCTe9vQDu0NB",
        "outputId": "23008b28-20e0-4b09-a8ee-3a8ad0a278d9",
        "colab": {
          "base_uri": "https://localhost:8080/",
          "height": 34
        }
      },
      "source": [
        "#@title Transforma Fornecedor em sql\n",
        "\n",
        "# Converte para SQL\n",
        "sql = para_sql(Fornecedor,\"Fornecedor\")\n",
        "\n",
        "# Apaga tabela se já existir\n",
        "engine.execute(\"DROP TABLE IF EXISTS Fornecedor;\")\n",
        "  \n",
        "# Gera Tabela de fornecedor \n",
        "engine.execute(\"CREATE TABLE Fornecedor ( \\\n",
        "                ID_Fornecedor  mediumint(8) NOT NULL, \\\n",
        "                Nome varchar(255) default NULL, \\\n",
        "                Email varchar(255) default NULL, \\\n",
        "                PRIMARY KEY (ID_Fornecedor) \\\n",
        "              );\")\n",
        "\n",
        "# Popula tabela\n",
        "engine.execute(sql)"
      ],
      "execution_count": null,
      "outputs": [
        {
          "output_type": "execute_result",
          "data": {
            "text/plain": [
              "<sqlalchemy.engine.result.ResultProxy at 0x7f085ae76588>"
            ]
          },
          "metadata": {
            "tags": []
          },
          "execution_count": 33
        }
      ]
    },
    {
      "cell_type": "code",
      "metadata": {
        "id": "kLsHuGfbxYmC",
        "outputId": "46e33f0d-baa4-450b-9628-1bab44f766b6",
        "colab": {
          "base_uri": "https://localhost:8080/",
          "height": 34
        }
      },
      "source": [
        "#@title Transforma Produto em sql\n",
        "\n",
        "# Converte para SQL\n",
        "sql = para_sql(Produto,\"Produto\")\n",
        "\n",
        "# Apaga tabela se já existir\n",
        "engine.execute(\"DROP TABLE IF EXISTS Produto;\")\n",
        "  \n",
        "# Gera tabela de Produtos \n",
        "engine.execute(\"CREATE TABLE Produto ( \\\n",
        "                ID_Produto mediumint(8) NOT NULL, \\\n",
        "                ID_Fornecedor mediumint, \\\n",
        "                Nome varchar(255) default NULL, \\\n",
        "                PRIMARY KEY (ID_Produto) \\\n",
        "              );\")\n",
        "\n",
        "# Popula tabela\n",
        "engine.execute(sql)"
      ],
      "execution_count": null,
      "outputs": [
        {
          "output_type": "execute_result",
          "data": {
            "text/plain": [
              "<sqlalchemy.engine.result.ResultProxy at 0x7f085ae76470>"
            ]
          },
          "metadata": {
            "tags": []
          },
          "execution_count": 34
        }
      ]
    },
    {
      "cell_type": "code",
      "metadata": {
        "id": "gTcdfkV4zM2X",
        "outputId": "ea4ba3f9-656f-4394-9b85-23c46e4de37d",
        "colab": {
          "base_uri": "https://localhost:8080/",
          "height": 34
        }
      },
      "source": [
        "#@title Transforma Ordem em sql\n",
        "\n",
        "# Converte para SQL\n",
        "sql = para_sql(Ordem,\"Ordem\")\n",
        "\n",
        "# Apaga tabela se já existir\n",
        "engine.execute(\"DROP TABLE IF EXISTS Ordem;\")\n",
        "  \n",
        "# Gera tabela de Ordens \n",
        "engine.execute(\"CREATE TABLE Ordem ( \\\n",
        "                ID_Ordem  mediumint(8) NOT NULL, \\\n",
        "                ID_Cliente mediumint, \\\n",
        "                ID_Produto mediumint, \\\n",
        "                Data varchar(255) default NULL, \\\n",
        "                PRIMARY KEY (ID_Ordem) \\\n",
        "                );\")\n",
        "\n",
        "# Popula tabela\n",
        "engine.execute(sql)"
      ],
      "execution_count": null,
      "outputs": [
        {
          "output_type": "execute_result",
          "data": {
            "text/plain": [
              "<sqlalchemy.engine.result.ResultProxy at 0x7f085bf836d8>"
            ]
          },
          "metadata": {
            "tags": []
          },
          "execution_count": 35
        }
      ]
    },
    {
      "cell_type": "code",
      "metadata": {
        "id": "fRBrlwH6ClFK",
        "outputId": "1348b32b-4fd7-458d-d83c-c8db9a6cda6f",
        "colab": {
          "base_uri": "https://localhost:8080/",
          "height": 34
        }
      },
      "source": [
        "#@title Transforma Entrega em sql\n",
        "\n",
        "# Converte para SQL\n",
        "sql = para_sql(Entrega,\"Entrega\")\n",
        "\n",
        "# Apaga tabela se já existir\n",
        "engine.execute(\"DROP TABLE IF EXISTS Entrega;\")\n",
        "  \n",
        "# Gera tabelas de Entregas \n",
        "engine.execute(\"CREATE TABLE Entrega ( \\\n",
        "                ID_Entrega mediumint(8) NOT NULL, \\\n",
        "                ID_Produto mediumint, \\\n",
        "                Data varchar(255), \\\n",
        "                PRIMARY KEY (ID_Entrega) \\\n",
        "                );\")\n",
        "\n",
        "# Popula tabela\n",
        "engine.execute(sql)"
      ],
      "execution_count": null,
      "outputs": [
        {
          "output_type": "execute_result",
          "data": {
            "text/plain": [
              "<sqlalchemy.engine.result.ResultProxy at 0x7f085bf83390>"
            ]
          },
          "metadata": {
            "tags": []
          },
          "execution_count": 36
        }
      ]
    },
    {
      "cell_type": "code",
      "metadata": {
        "id": "xNnJ_KP6ClrV",
        "outputId": "cb49b427-7bae-4a40-8b3e-1330c297463b",
        "colab": {
          "base_uri": "https://localhost:8080/",
          "height": 34
        }
      },
      "source": [
        "#@title Consulta 1) π(IDCliente,   Nome,   Email) (Cliente)\n",
        "\n",
        "# Avalia tempo gasto na consulta para projetar todas alinhas de todos os atributos da Tabela Cliente\n",
        "%timeit pd.read_sql('SELECT * FROM Cliente', con = engine)\n"
      ],
      "execution_count": null,
      "outputs": [
        {
          "output_type": "stream",
          "text": [
            "1000 loops, best of 3: 1.88 ms per loop\n"
          ],
          "name": "stdout"
        }
      ]
    },
    {
      "cell_type": "code",
      "metadata": {
        "id": "9hFfJ4xHmox7",
        "outputId": "335c8138-aaf3-4a2c-d284-a1bb1cb2da1a",
        "colab": {
          "base_uri": "https://localhost:8080/",
          "height": 34
        }
      },
      "source": [
        "#@title Consulta 2) π_(IDProduto,   IDFornecedor,   Nome) (Produto)\n",
        "\n",
        "# Avalia tempo gasto na consulta para projetar produto\n",
        "%timeit pd.read_sql('SELECT * FROM Produto', con = engine) \n"
      ],
      "execution_count": null,
      "outputs": [
        {
          "output_type": "stream",
          "text": [
            "1000 loops, best of 3: 1.74 ms per loop\n"
          ],
          "name": "stdout"
        }
      ]
    },
    {
      "cell_type": "code",
      "metadata": {
        "id": "bzcL-1IgpGSD",
        "outputId": "30c5ca17-154c-4b21-9a9a-5dbe88d7de6a",
        "colab": {
          "base_uri": "https://localhost:8080/",
          "height": 34
        }
      },
      "source": [
        "#@title Consulta 3) Cliente  ⋈_(IDCliente=IDCliente)  Ordem\n",
        "\n",
        "# Declara query 3\n",
        "q3 = \"SELECT c.ID_Cliente, c.Nome, c.Email, o.ID_Ordem, o.ID_Produto, o.Data \\\n",
        "      FROM Cliente as c \\\n",
        "      JOIN Ordem as o ON c.ID_Cliente = o.ID_Cliente\"\n",
        "\n",
        "# Avalia tempo gasto na consulta para projetar a jução de Cliente e Ordem\n",
        "%timeit pd.read_sql(q3, con = engine)\n"
      ],
      "execution_count": null,
      "outputs": [
        {
          "output_type": "stream",
          "text": [
            "100 loops, best of 3: 5.65 ms per loop\n"
          ],
          "name": "stdout"
        }
      ]
    },
    {
      "cell_type": "code",
      "metadata": {
        "id": "_OH6zOTKpHFi",
        "outputId": "60714afb-126d-459d-ef51-9db6f8869729",
        "colab": {
          "base_uri": "https://localhost:8080/",
          "height": 34
        }
      },
      "source": [
        "#@title Consulta 4) Produto  ⋈_(IDProduto=IDProduto)  Ordem\n",
        "\n",
        "# Declara Query 4\n",
        "q4 = \"SELECT p.ID_Produto, p.ID_Fornecedor, p.Nome as Nome_Produto, o.ID_Ordem, o.ID_Cliente, o.Data \\\n",
        "      FROM Produto as p \\\n",
        "      JOIN Ordem as o ON p.ID_Produto = o.ID_Produto\"\n",
        "\n",
        "# Avalia tempo gasto Consulta para projetar a jução de Produto e Ordem\n",
        "%timeit pd.read_sql(q4, con = engine)\n"
      ],
      "execution_count": null,
      "outputs": [
        {
          "output_type": "stream",
          "text": [
            "100 loops, best of 3: 19.4 ms per loop\n"
          ],
          "name": "stdout"
        }
      ]
    },
    {
      "cell_type": "code",
      "metadata": {
        "id": "jcqem19apIWf",
        "outputId": "671c800b-69bd-4e2d-9220-8ba042958275",
        "colab": {
          "base_uri": "https://localhost:8080/",
          "height": 51
        }
      },
      "source": [
        "#@title Consulta 5) Fornecedor  ⋈_(IDFornecedor=IDFornecedor)  Produto\n",
        "\n",
        "# Declara query 5 \n",
        "q5 = \"SELECT f.ID_Fornecedor, f.Nome, f.Email, p.ID_Produto, p.Nome as Nome_Produto  \\\n",
        "      FROM Fornecedor as f \\\n",
        "      JOIN Produto as p ON f.ID_Fornecedor = p.ID_Fornecedor\"\n",
        "\n",
        "# Avalia tempo gasto na consulta para projetar a junção de Fornecedor e Produto\n",
        "%timeit pd.read_sql(q5, con = engine)\n"
      ],
      "execution_count": null,
      "outputs": [
        {
          "output_type": "stream",
          "text": [
            "The slowest run took 4.51 times longer than the fastest. This could mean that an intermediate result is being cached.\n",
            "100 loops, best of 3: 2.03 ms per loop\n"
          ],
          "name": "stdout"
        }
      ]
    },
    {
      "cell_type": "code",
      "metadata": {
        "id": "2QomCFsxpIh7",
        "outputId": "c6a7138a-20da-4a0c-a8e1-ce536d1b60f7",
        "colab": {
          "base_uri": "https://localhost:8080/",
          "height": 34
        }
      },
      "source": [
        "#@title Consulta 6) (Fornecedor  ⋈_(IDFornecedor=IDFornecedor)  Produto)⋈_(IDProduto=IDProduto)  Ordem\n",
        "\n",
        "# Declara query 6\n",
        "q6 = \"SELECT f.ID_Fornecedor, f.Nome, f.Email, p.ID_Produto, p.Nome as Nome_Produto, o.ID_Cliente, o.Data \\\n",
        "      FROM Fornecedor as f \\\n",
        "      JOIN Produto as p ON f.ID_Fornecedor = p.ID_Fornecedor \\\n",
        "      JOIN Ordem as o ON p.ID_Produto = o.ID_Produto\"\n",
        "\n",
        "# Consulta para projetar a junção de Fornecedor, Produto e Ordem\n",
        "%timeit pd.read_sql(q6, con = engine)\n"
      ],
      "execution_count": null,
      "outputs": [
        {
          "output_type": "stream",
          "text": [
            "10 loops, best of 3: 21.9 ms per loop\n"
          ],
          "name": "stdout"
        }
      ]
    },
    {
      "cell_type": "code",
      "metadata": {
        "id": "G9MeGrW7pIoF",
        "outputId": "3380ed1b-2931-4bc6-bb58-758dda3c3edd",
        "colab": {
          "base_uri": "https://localhost:8080/",
          "height": 34
        }
      },
      "source": [
        "#@title Consulta 7) (Produto  ⋈_(IDProduto=IDProduto)  Ordem)  ⋈_(IDCliente=IDCliente)  Cliente\n",
        "\n",
        "# Declara query 7\n",
        "q7 = \"SELECT p.ID_Produto, p.ID_Fornecedor, c.Nome as Nome_Cliente, o.ID_Ordem, o.ID_Cliente, o.Data \\\n",
        "      FROM Produto as p \\\n",
        "      JOIN Ordem as o ON p.ID_Produto = o.ID_Produto \\\n",
        "      JOIN Cliente as c ON o.ID_Cliente = c.ID_Cliente\"\n",
        "\n",
        "# Avalia tempo gasto na consulta para projetar a jução de Produto, Ordem e Cliente\n",
        "%timeit pd.read_sql(q4, con = engine)\n"
      ],
      "execution_count": null,
      "outputs": [
        {
          "output_type": "stream",
          "text": [
            "10 loops, best of 3: 19.4 ms per loop\n"
          ],
          "name": "stdout"
        }
      ]
    },
    {
      "cell_type": "code",
      "metadata": {
        "id": "CUW8ecrdpIts",
        "outputId": "1b3a59e3-8b2e-4b51-c576-ec5adaf9b125",
        "colab": {
          "base_uri": "https://localhost:8080/",
          "height": 34
        }
      },
      "source": [
        "#@title Consulta 8) (Produto  ⋈_(IDProduto=IDProduto)  Ordem)  ⋈_(IDFornecedor=IDFornecedor)  Fornecedor\n",
        "\n",
        "# Declara query 8\n",
        "q8 = \"SELECT p.ID_Produto, p.ID_Fornecedor, f.Nome as Nome_Fornecedor, o.ID_Ordem, o.ID_Cliente, o.Data \\\n",
        "      FROM Produto as p \\\n",
        "      JOIN Ordem as o ON p.ID_Produto = o.ID_Produto \\\n",
        "      JOIN Fornecedor as f ON p.ID_Fornecedor = p.ID_Fornecedor\"\n",
        "\n",
        "# Avalia tempo gasto na consulta para projetar a jução de Produto, Ordem e Fornecedor\n",
        "%timeit pd.read_sql(q8, con = engine)\n"
      ],
      "execution_count": null,
      "outputs": [
        {
          "output_type": "stream",
          "text": [
            "10 loops, best of 3: 149 ms per loop\n"
          ],
          "name": "stdout"
        }
      ]
    },
    {
      "cell_type": "code",
      "metadata": {
        "id": "Q0xfwbplpIzL",
        "outputId": "29783238-9b83-41e6-bca3-af3615ea8f87",
        "colab": {
          "base_uri": "https://localhost:8080/",
          "height": 34
        }
      },
      "source": [
        "#@title Consulta 9) J_(COUNT IDCliente) (Cliente  ⋈_(IDCliente=IDCliente)  Ordem) \n",
        "\n",
        "# Declara query 9\n",
        "q9 = \"SELECT c.ID_Cliente, c.Nome, COUNT(o.ID_Ordem) as Quantidade_de_Ordens  \\\n",
        "                         FROM Cliente as c \\\n",
        "                         JOIN Ordem as o ON c.ID_Cliente = o.ID_Cliente \\\n",
        "                         GROUP BY c.ID_Cliente \\\n",
        "                         ORDER BY Quantidade_de_Ordens DESC\"\n",
        "\n",
        "# Avalia tempo gasto na consulta para calcular a quantidade de ordens por cliente\n",
        "%timeit pd.read_sql(q9, con = engine)\n"
      ],
      "execution_count": null,
      "outputs": [
        {
          "output_type": "stream",
          "text": [
            "100 loops, best of 3: 3.05 ms per loop\n"
          ],
          "name": "stdout"
        }
      ]
    },
    {
      "cell_type": "code",
      "metadata": {
        "id": "1bgkBvAGpI4U",
        "outputId": "fe3b2b54-07bb-4755-e7e7-40948ee9ce02",
        "colab": {
          "base_uri": "https://localhost:8080/",
          "height": 34
        }
      },
      "source": [
        "#@title Consulta 10) J_(COUNT IDProduto) (Fornecedor  ⋈_(IDFornecedor=IDFornecedor)  Produto)\n",
        "\n",
        "# Declara query 10\n",
        "q10 = \"SELECT f.ID_Fornecedor, f.Nome as Nome_Fornecedor, COUNT(p.ID_Produto) as Quantidade_de_Produtos \\\n",
        "       FROM Fornecedor as f \\\n",
        "       JOIN Produto as p ON f.ID_Fornecedor = p.ID_Fornecedor \\\n",
        "       GROUP BY f.ID_Fornecedor \\\n",
        "       ORDER BY Quantidade_de_Produtos DESC\"\n",
        "\n",
        "# Consulta para Calcular a quantidade de produtos por fornecedor\n",
        "%timeit pd.read_sql(q10, con = engine)\n"
      ],
      "execution_count": null,
      "outputs": [
        {
          "output_type": "stream",
          "text": [
            "1000 loops, best of 3: 1.76 ms per loop\n"
          ],
          "name": "stdout"
        }
      ]
    }
  ]
}