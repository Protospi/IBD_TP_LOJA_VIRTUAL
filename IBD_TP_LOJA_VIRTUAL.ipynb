{
  "nbformat": 4,
  "nbformat_minor": 0,
  "metadata": {
    "colab": {
      "name": "IBD_TP_LOJA_VIRTUAL.ipynb",
      "provenance": [],
      "collapsed_sections": []
    },
    "kernelspec": {
      "name": "python3",
      "display_name": "Python 3"
    }
  },
  "cells": [
    {
      "cell_type": "code",
      "metadata": {
        "id": "7k8FQmOEstmc",
        "outputId": "2589e23a-45e7-40cc-f2f3-c6b52a21cd6f",
        "colab": {
          "base_uri": "https://localhost:8080/",
          "height": 34
        }
      },
      "source": [
        "#@title Carrega Bibliotecas\n",
        "\n",
        "# Carrega Pacotes\n",
        "import requests\n",
        "from bs4 import BeautifulSoup\n",
        "import numpy as np\n",
        "import pandas as pd\n",
        "import datetime\n",
        "import random\n",
        "!pip install unidecode\n",
        "from unidecode import unidecode\n",
        "from sqlalchemy import create_engine \n"
      ],
      "execution_count": 27,
      "outputs": [
        {
          "output_type": "stream",
          "text": [
            "Requirement already satisfied: unidecode in /usr/local/lib/python3.6/dist-packages (1.1.1)\n"
          ],
          "name": "stdout"
        }
      ]
    },
    {
      "cell_type": "code",
      "metadata": {
        "id": "lQf0YgZctB2t"
      },
      "source": [
        "#@title Scrap Sobrenomes\n",
        "\n",
        "# Define Url de Sobrenomes\n",
        "url = 'https://www.procob.com/os-sobrenomes-mais-comuns-do-brasil/'\n",
        " \n",
        "# Conecta com URL\n",
        "reqs = requests.get(url)\n",
        " \n",
        "# Extrai informações de lista ordenada\n",
        "soup = BeautifulSoup(reqs.text, 'lxml')\n",
        " \n",
        "# Define Sobrenomes\n",
        "Sobrenomes = np.random.choice([tag.text for tag in soup.find_all(\"ol\")][0].split(), 90)"
      ],
      "execution_count": 28,
      "outputs": []
    },
    {
      "cell_type": "code",
      "metadata": {
        "id": "YovDR5ZXxGwv"
      },
      "source": [
        "#@title Scrap Nome de Homens\n",
        "\n",
        "# Define Url de Homens\n",
        "url2 = 'https://www.minhavida.com.br/familia/materias/35919-100-nomes-para-meninos-mais-comuns-confira-lista'\n",
        "\n",
        "# Conecta com URL\n",
        "reqs = requests.get(url2)\n",
        "\n",
        "# Extrai informações de lista ordenada\n",
        "soup = BeautifulSoup(reqs.text, 'lxml')\n",
        "\n",
        "# Define Sobrenomes\n",
        "Homens = [tag.text for tag in soup.find_all(\"ul\")][1].split()\n"
      ],
      "execution_count": 29,
      "outputs": []
    },
    {
      "cell_type": "code",
      "metadata": {
        "id": "_Jh0lwdgyGW2"
      },
      "source": [
        "#@title Scrap Nomes de Mulheres\n",
        "\n",
        "# Define Url de Mulheres\n",
        "url3 = 'https://www.minhavida.com.br/familia/materias/35925-100-nomes-para-meninas-mais-comuns-confira-lista'\n",
        "\n",
        "# Conecta com URL\n",
        "reqs = requests.get(url3)\n",
        "\n",
        "# Extrai informações de lista ordenada\n",
        "soup = BeautifulSoup(reqs.text, 'lxml')\n",
        "\n",
        "# Define Sobrenomes\n",
        "Mulheres = [tag.text for tag in soup.find_all(\"ul\")][1].split()\n"
      ],
      "execution_count": 30,
      "outputs": []
    },
    {
      "cell_type": "code",
      "metadata": {
        "id": "6Qzs00lMYbQw"
      },
      "source": [
        "#@title Scrap Nomes de Produtos\n",
        "\n",
        "# Define Url de Melhores 10 celulares\n",
        "url4 = 'https://mobizoo.com.br/opiniao/celulares-mais-vendidos/'\n",
        "\n",
        "# Conecta com URL\n",
        "reqs = requests.get(url4)\n",
        "\n",
        "# Extrai informações da url\n",
        "soup = BeautifulSoup(reqs.text, 'lxml')\n",
        "\n",
        "# Define Produtos de Celulares\n",
        "Produtos_Celulares = [tag.text for tag in soup.find_all(\"th\")][5::4]\n",
        "\n",
        "# Define Url de Melhores Desktops\n",
        "url5 = 'https://spy.com/articles/gadgets/electronics/best-desktop-computers-reviews-247841/'\n",
        "\n",
        "# Conecta com URL\n",
        "reqs = requests.get(url5)\n",
        "\n",
        "# Extrai informações da url\n",
        "soup = BeautifulSoup(reqs.text, 'lxml')\n",
        "\n",
        "# Define Variavel auxiliar com titulos completos com categoria\n",
        "Produtos_Desktop = [tag.text for tag in soup.find_all(\"h2\")][:11]\n",
        "\n",
        "# Define Produtos Desktops \n",
        "Produtos_Desktop = list(map(lambda w: w.split(\". \", 1)[1], Produtos_Desktop))\n",
        "\n",
        "# Concatena Produtos\n",
        "Produtos = Produtos_Celulares + Produtos_Desktop\n"
      ],
      "execution_count": 31,
      "outputs": []
    },
    {
      "cell_type": "code",
      "metadata": {
        "id": "D2_lcGE22K-F"
      },
      "source": [
        "#@title Gera emails e datas\n",
        "\n",
        "# Conding\n",
        "encoding = \"utf-8\"\n",
        "\n",
        "# Declara email de Clientes\n",
        "email_Cliente = [unidecode(i) + j for i, j in zip(list(Homens[0:89]), np.random.choice([\"@gmail.com\",\"@yahoo.com\",\"@bh.com\"], 90).tolist())] \n",
        "\n",
        "# Email de Fornecedor\n",
        "email_Fornecedor = [unidecode(i) + j for i, j in zip(list(Homens[90:99]), np.random.choice([\"@gmail.com\",\"@yahoo.com\",\"@bh.com\"], 90).tolist())]\n",
        "\n",
        "# Data de Inicio\n",
        "inicio = datetime.date(2020, 1, 1)\n",
        "fim = datetime.date(2020, 10, 1)\n",
        "\n",
        "# Calcula Data\n",
        "tempo_entre_datas = fim - inicio\n",
        "dias_entre_datas = tempo_entre_datas.days\n",
        "dias_aleatorios = random.randrange(dias_entre_datas)\n",
        "data_aleatoria = inicio + datetime.timedelta(days=dias_aleatorios)\n",
        "\n",
        "# Data Ordem\n",
        "Data_Ordem = pd.date_range(start = '2020-01-01', end = '2020-10-01', periods=5000)\n",
        "\n",
        "# Data Entrega\n",
        "Data_Entrega = [data + datetime.timedelta(days=random.randrange(dias_entre_datas)) for data in Data_Ordem]\n",
        "\n"
      ],
      "execution_count": 32,
      "outputs": []
    },
    {
      "cell_type": "code",
      "metadata": {
        "id": "BXCsspALXHNY"
      },
      "source": [
        "#@title Declara tabelas (dataframes)\n",
        "\n",
        "# Declara data frame de Clientes com 500 clientes\n",
        "Cliente = pd.DataFrame({'ID_Cliente' : range(89),\n",
        "                       'Nome' : np.random.choice(Homens + Mulheres, 89).tolist(),\n",
        "                       'Email' : email_Cliente})\n",
        "\n",
        "\n",
        "# Declara data frame de Fornecedor com 50 Fornecedores\n",
        "Fornecedor = pd.DataFrame({'ID_Fornecedor' : range(9),\n",
        "                           'Nome' : Homens[90:99],\n",
        "                           'Email' : email_Fornecedor})\n",
        "\n",
        "# Declara data frame de Ordem com 5000 ordens\n",
        "Ordem = pd.DataFrame({'ID_Ordem' : range(5000),\n",
        "                      'ID_Cliente' : np.random.choice(range(500), 5000).tolist(),\n",
        "                      'ID_Produto' : np.random.choice(range(20), 5000).tolist(),\n",
        "                      'Data' : Data_Ordem})\n",
        "\n",
        "# Remove Horario da Coluna Data tablea Ordem\n",
        "Ordem['Data'] = [str(i) for i in pd.to_datetime(Ordem['Data']).dt.date]\n",
        "\n",
        "# Declara dataframe de Produto com 10 produtos\n",
        "Produto = pd.DataFrame({'ID_Produto' : range(21),\n",
        "                        'ID_Fornecedor' : np.random.choice(range(9), 21).tolist(),\n",
        "                        'Nome' : Produtos })\n",
        "\n",
        "# Declara data frame de entrega com 5000 entregas\n",
        "Entrega = pd.DataFrame({'ID_Entrega' : range(5000),\n",
        "                        'ID_Produto' : Ordem.ID_Produto,\n",
        "                        'Data' : Data_Entrega})\n",
        "\n",
        "# Remove Horario da Coluna Data tabela Entrega\n",
        "Entrega['Data'] = [str(i) for i in pd.to_datetime(Entrega['Data']).dt.date]\n",
        "\n",
        "# Declara Data Frame Sobrenome\n",
        "Sobrenome = pd.DataFrame({'ID_Cliente' : range(90),\n",
        "                          'Sobrenome' : Sobrenomes})\n"
      ],
      "execution_count": 33,
      "outputs": []
    },
    {
      "cell_type": "code",
      "metadata": {
        "id": "EOwfe13BgaTa"
      },
      "source": [
        "#@title Define Funcao para converter panda em string SQL e cria motor\n",
        "\n",
        "# Define Funcao\n",
        "def para_sql(df, nome):\n",
        "  rows = df.to_records(index=False)\n",
        "  values = ', '.join(map(str, rows))\n",
        "  sql = \"INSERT INTO \"+ nome + \" VALUES {}\".format(values)\n",
        "  return sql.replace(\"\"\"\\'\"\"\", \"\"\"\\\"\"\"\")\n",
        "\n",
        "# Cria Motor de SQL \n",
        "engine = create_engine('sqlite:///ibdtp.db',  \n",
        "                       echo = False) \n",
        "  "
      ],
      "execution_count": 34,
      "outputs": []
    },
    {
      "cell_type": "code",
      "metadata": {
        "id": "4ll9hCoW83z1",
        "outputId": "3b65ce20-2e86-4da3-e5e3-ea081865c263",
        "colab": {
          "base_uri": "https://localhost:8080/",
          "height": 34
        }
      },
      "source": [
        "#@title Transforma Cliente em sql\n",
        "\n",
        "# Converte para SQL\n",
        "sql = para_sql(Cliente,\"Cliente\")\n",
        "\n",
        "# Apaga tabela se já existir\n",
        "engine.execute(\"DROP TABLE IF EXISTS Cliente;\")\n",
        "  \n",
        "# Gera tabela \n",
        "engine.execute(\"CREATE TABLE Cliente ( \\\n",
        "                ID_Cliente mediumint(8) NOT NULL,\\\n",
        "                Nome varchar(255) default NULL,\\\n",
        "                Email varchar(255) default NULL,\\\n",
        "                PRIMARY KEY (ID_Cliente) \\\n",
        "                );\")\n",
        "\n",
        "# Popula tabela\n",
        "engine.execute(str(sql))\n"
      ],
      "execution_count": 35,
      "outputs": [
        {
          "output_type": "execute_result",
          "data": {
            "text/plain": [
              "<sqlalchemy.engine.result.ResultProxy at 0x7f58dbd08f98>"
            ]
          },
          "metadata": {
            "tags": []
          },
          "execution_count": 35
        }
      ]
    },
    {
      "cell_type": "code",
      "metadata": {
        "id": "LLShJpiJDQsb",
        "outputId": "1e9c477b-5116-475d-e814-03c864cfb3e1",
        "colab": {
          "base_uri": "https://localhost:8080/",
          "height": 34
        }
      },
      "source": [
        "#@title Transforma Sobrenome em sql\n",
        "\n",
        "# Converte para SQL\n",
        "sql = para_sql(Sobrenome,\"Sobrenome\")\n",
        "\n",
        "# Apaga tabela se já existir\n",
        "engine.execute(\"DROP TABLE IF EXISTS Sobrenome;\")\n",
        "  \n",
        "# Gera tabela \n",
        "engine.execute(\"CREATE TABLE Sobrenome ( \\\n",
        "                ID_Cliente mediumint(8) NOT NULL, \\\n",
        "                Sobrenome varchar(255) default NULL, \\\n",
        "                PRIMARY KEY (ID_Cliente) \\\n",
        "                );\")\n",
        "\n",
        "# Popula tabela\n",
        "engine.execute(str(sql))\n"
      ],
      "execution_count": 36,
      "outputs": [
        {
          "output_type": "execute_result",
          "data": {
            "text/plain": [
              "<sqlalchemy.engine.result.ResultProxy at 0x7f58dbb35048>"
            ]
          },
          "metadata": {
            "tags": []
          },
          "execution_count": 36
        }
      ]
    },
    {
      "cell_type": "code",
      "metadata": {
        "id": "wCTe9vQDu0NB",
        "outputId": "551f8789-e6a6-49ec-c913-511ab11ab9d7",
        "colab": {
          "base_uri": "https://localhost:8080/",
          "height": 34
        }
      },
      "source": [
        "#@title Transforma Fornecedor em sql\n",
        "\n",
        "# Converte para SQL\n",
        "sql = para_sql(Fornecedor,\"Fornecedor\")\n",
        "\n",
        "# Apaga tabela se já existir\n",
        "engine.execute(\"DROP TABLE IF EXISTS Fornecedor;\")\n",
        "  \n",
        "# show the complete data \n",
        "engine.execute(\"CREATE TABLE Fornecedor ( \\\n",
        "                ID_Fornecedor  mediumint(8) NOT NULL, \\\n",
        "                Nome varchar(255) default NULL, \\\n",
        "                Email varchar(255) default NULL, \\\n",
        "                PRIMARY KEY (ID_Fornecedor) \\\n",
        "              );\")\n",
        "\n",
        "# Popula tabela de clientes\n",
        "engine.execute(str(sql))\n"
      ],
      "execution_count": 37,
      "outputs": [
        {
          "output_type": "execute_result",
          "data": {
            "text/plain": [
              "<sqlalchemy.engine.result.ResultProxy at 0x7f58dbb35160>"
            ]
          },
          "metadata": {
            "tags": []
          },
          "execution_count": 37
        }
      ]
    },
    {
      "cell_type": "code",
      "metadata": {
        "id": "kLsHuGfbxYmC",
        "outputId": "d4f97d9f-9430-4bda-8abe-d9e0c319efce",
        "colab": {
          "base_uri": "https://localhost:8080/",
          "height": 34
        }
      },
      "source": [
        "#@title Transforma Produto em sql\n",
        "\n",
        "# Converte para SQL\n",
        "sql = para_sql(Produto,\"Produto\")\n",
        "\n",
        "# Apaga tabela se já existir\n",
        "engine.execute(\"DROP TABLE IF EXISTS Produto;\")\n",
        "  \n",
        "# show the complete data \n",
        "engine.execute(\"CREATE TABLE Produto ( \\\n",
        "                ID_Produto mediumint(8) NOT NULL, \\\n",
        "                ID_Fornecedor mediumint, \\\n",
        "                Nome varchar(255) default NULL, \\\n",
        "                PRIMARY KEY (ID_Produto) \\\n",
        "              );\")\n",
        "\n",
        "# Popula tabela de clientes\n",
        "engine.execute(str(sql)) \n"
      ],
      "execution_count": 38,
      "outputs": [
        {
          "output_type": "execute_result",
          "data": {
            "text/plain": [
              "<sqlalchemy.engine.result.ResultProxy at 0x7f58dbb35c18>"
            ]
          },
          "metadata": {
            "tags": []
          },
          "execution_count": 38
        }
      ]
    },
    {
      "cell_type": "code",
      "metadata": {
        "id": "gTcdfkV4zM2X",
        "outputId": "40fe7bf7-9935-49ef-cdaa-501e4630f941",
        "colab": {
          "base_uri": "https://localhost:8080/",
          "height": 34
        }
      },
      "source": [
        "#@title Transforma Ordem em sql\n",
        "\n",
        "# Converte para SQL\n",
        "sql = para_sql(Ordem,\"Ordem\")\n",
        "\n",
        "# Apaga tabela se já existir\n",
        "engine.execute(\"DROP TABLE IF EXISTS Ordem;\")\n",
        "  \n",
        "# show the complete data \n",
        "engine.execute(\"CREATE TABLE Ordem ( \\\n",
        "                ID_Ordem  mediumint(8) NOT NULL, \\\n",
        "                ID_Cliente mediumint, \\\n",
        "                ID_Produto mediumint, \\\n",
        "                Data varchar(255) default NULL, \\\n",
        "                PRIMARY KEY (ID_Ordem) \\\n",
        "                );\")\n",
        "\n",
        "# Popula tabela de clientes\n",
        "engine.execute(str(sql))\n"
      ],
      "execution_count": 39,
      "outputs": [
        {
          "output_type": "execute_result",
          "data": {
            "text/plain": [
              "<sqlalchemy.engine.result.ResultProxy at 0x7f58dbb35400>"
            ]
          },
          "metadata": {
            "tags": []
          },
          "execution_count": 39
        }
      ]
    },
    {
      "cell_type": "code",
      "metadata": {
        "id": "fRBrlwH6ClFK",
        "outputId": "23c2dfb2-65f9-4574-c043-41bf9c77add8",
        "colab": {
          "base_uri": "https://localhost:8080/",
          "height": 34
        }
      },
      "source": [
        "#@title Transforma Entrega em sql\n",
        "\n",
        "# Converte para SQL\n",
        "sql = para_sql(Entrega,\"Entrega\")\n",
        "\n",
        "# Apaga tabela se já existir\n",
        "engine.execute(\"DROP TABLE IF EXISTS Entrega;\")\n",
        "  \n",
        "# show the complete data \n",
        "engine.execute(\"CREATE TABLE Entrega ( \\\n",
        "                ID_Entrega mediumint(8) NOT NULL, \\\n",
        "                ID_Produto mediumint, \\\n",
        "                Data varchar(255), \\\n",
        "                PRIMARY KEY (ID_Entrega) \\\n",
        "                );\")\n",
        "\n",
        "# Popula tabela de clientes\n",
        "engine.execute(str(sql))\n"
      ],
      "execution_count": 40,
      "outputs": [
        {
          "output_type": "execute_result",
          "data": {
            "text/plain": [
              "<sqlalchemy.engine.result.ResultProxy at 0x7f58dbb357b8>"
            ]
          },
          "metadata": {
            "tags": []
          },
          "execution_count": 40
        }
      ]
    },
    {
      "cell_type": "code",
      "metadata": {
        "id": "xNnJ_KP6ClrV",
        "outputId": "9550a489-55a4-4f40-8ced-033fda134c67",
        "colab": {
          "base_uri": "https://localhost:8080/",
          "height": 34
        }
      },
      "source": [
        "#@title Consulta 1) π(IDCliente,   Nome,   Email) (Cliente)\n",
        "\n",
        "# Avalia tempo gasto na consulta para projetar todos os valores da Tabela Cliente\n",
        "%timeit pd.read_sql('SELECT * FROM Cliente', con = engine)\n"
      ],
      "execution_count": 41,
      "outputs": [
        {
          "output_type": "stream",
          "text": [
            "100 loops, best of 3: 2.12 ms per loop\n"
          ],
          "name": "stdout"
        }
      ]
    },
    {
      "cell_type": "code",
      "metadata": {
        "id": "9hFfJ4xHmox7",
        "outputId": "c4e1bcaf-1e94-45bc-d8eb-f183d6a5721f",
        "colab": {
          "base_uri": "https://localhost:8080/",
          "height": 34
        }
      },
      "source": [
        "#@title Consulta 2) π_(IDProduto,   IDFornecedor,   Nome) (Produto)\n",
        "\n",
        "# Avalia tempo gasto na consulta para projetar produto\n",
        "%timeit pd.read_sql('SELECT * FROM Produto', con = engine) \n"
      ],
      "execution_count": 42,
      "outputs": [
        {
          "output_type": "stream",
          "text": [
            "100 loops, best of 3: 1.87 ms per loop\n"
          ],
          "name": "stdout"
        }
      ]
    },
    {
      "cell_type": "code",
      "metadata": {
        "id": "bzcL-1IgpGSD",
        "outputId": "a28e959e-576c-4316-e564-5a893b969ebf",
        "colab": {
          "base_uri": "https://localhost:8080/",
          "height": 34
        }
      },
      "source": [
        "#@title Consulta 3) Cliente  ⋈_(IDCliente=IDCliente)  Ordem\n",
        "\n",
        "# Declara query 3\n",
        "q3 = \"SELECT c.ID_Cliente, c.Nome, c.Email, o.ID_Ordem, o.ID_Produto, o.Data \\\n",
        "      FROM Cliente as c \\\n",
        "      JOIN Ordem as o ON c.ID_Cliente = o.ID_Cliente\"\n",
        "\n",
        "# Avalia tempo gasto na consulta para projetar a jução de Cliente e Ordem\n",
        "%timeit pd.read_sql(q3, con = engine)\n"
      ],
      "execution_count": 43,
      "outputs": [
        {
          "output_type": "stream",
          "text": [
            "100 loops, best of 3: 6.23 ms per loop\n"
          ],
          "name": "stdout"
        }
      ]
    },
    {
      "cell_type": "code",
      "metadata": {
        "id": "_OH6zOTKpHFi",
        "outputId": "2df3db4f-a1f6-4b4a-ffc5-720d0ff90dd9",
        "colab": {
          "base_uri": "https://localhost:8080/",
          "height": 34
        }
      },
      "source": [
        "#@title Consulta 4) Produto  ⋈_(IDProduto=IDProduto)  Ordem\n",
        "\n",
        "# Declara Query 4\n",
        "q4 = \"SELECT p.ID_Produto, p.ID_Fornecedor, p.Nome as Nome_Produto, o.ID_Ordem, o.ID_Cliente, o.Data \\\n",
        "      FROM Produto as p \\\n",
        "      JOIN Ordem as o ON p.ID_Produto = o.ID_Produto\"\n",
        "\n",
        "# Avalia tempo gasto Consulta para projetar a jução de Produto e Ordem\n",
        "%timeit pd.read_sql(q4, con = engine)\n"
      ],
      "execution_count": 44,
      "outputs": [
        {
          "output_type": "stream",
          "text": [
            "10 loops, best of 3: 20.7 ms per loop\n"
          ],
          "name": "stdout"
        }
      ]
    },
    {
      "cell_type": "code",
      "metadata": {
        "id": "jcqem19apIWf",
        "outputId": "3c6b7d40-8e2c-493d-e294-d2ea3a16a7f9",
        "colab": {
          "base_uri": "https://localhost:8080/",
          "height": 34
        }
      },
      "source": [
        "#@title Consulta 5) Fornecedor  ⋈_(IDFornecedor=IDFornecedor)  Produto\n",
        "\n",
        "# Declara query 5 \n",
        "q5 = \"SELECT f.ID_Fornecedor, f.Nome, f.Email, p.ID_Produto, p.Nome as Nome_Produto  \\\n",
        "      FROM Fornecedor as f \\\n",
        "      JOIN Produto as p ON f.ID_Fornecedor = p.ID_Fornecedor\"\n",
        "\n",
        "# Avalia tempo gasto na consulta para projetar a junção de Fornecedor e Produto\n",
        "%timeit pd.read_sql(q5, con = engine)\n"
      ],
      "execution_count": 45,
      "outputs": [
        {
          "output_type": "stream",
          "text": [
            "100 loops, best of 3: 2.32 ms per loop\n"
          ],
          "name": "stdout"
        }
      ]
    },
    {
      "cell_type": "code",
      "metadata": {
        "id": "2QomCFsxpIh7",
        "outputId": "11cdf872-2daf-4be7-981b-2986109fad74",
        "colab": {
          "base_uri": "https://localhost:8080/",
          "height": 34
        }
      },
      "source": [
        "#@title Consulta 6) (Fornecedor  ⋈_(IDFornecedor=IDFornecedor)  Produto)⋈_(IDProduto=IDProduto)  Ordem\n",
        "\n",
        "# Declara query 6\n",
        "q6 = \"SELECT f.ID_Fornecedor, f.Nome, f.Email, p.ID_Produto, p.Nome as Nome_Produto, o.ID_Cliente, o.Data \\\n",
        "      FROM Fornecedor as f \\\n",
        "      JOIN Produto as p ON f.ID_Fornecedor = p.ID_Fornecedor \\\n",
        "      JOIN Ordem as o ON p.ID_Produto = o.ID_Produto\"\n",
        "\n",
        "# Consulta para projetar a junção de Fornecedor, Produto e Ordem\n",
        "%timeit pd.read_sql(q6, con = engine)\n"
      ],
      "execution_count": 46,
      "outputs": [
        {
          "output_type": "stream",
          "text": [
            "10 loops, best of 3: 23.3 ms per loop\n"
          ],
          "name": "stdout"
        }
      ]
    },
    {
      "cell_type": "code",
      "metadata": {
        "id": "G9MeGrW7pIoF",
        "outputId": "8d319166-0402-47b7-e1d4-5edbee6196e2",
        "colab": {
          "base_uri": "https://localhost:8080/",
          "height": 34
        }
      },
      "source": [
        "#@title Consulta 7) (Produto  ⋈_(IDProduto=IDProduto)  Ordem)  ⋈_(IDCliente=IDCliente)  Cliente\n",
        "\n",
        "# Declara query 7\n",
        "q7 = \"SELECT p.ID_Produto, p.ID_Fornecedor, c.Nome as Nome_Cliente, o.ID_Ordem, o.ID_Cliente, o.Data \\\n",
        "      FROM Produto as p \\\n",
        "      JOIN Ordem as o ON p.ID_Produto = o.ID_Produto \\\n",
        "      JOIN Cliente as c ON o.ID_Cliente = c.ID_Cliente\"\n",
        "\n",
        "# Avalia tempo gasto na consulta para projetar a jução de Produto, Ordem e Cliente\n",
        "%timeit pd.read_sql(q4, con = engine)\n"
      ],
      "execution_count": 47,
      "outputs": [
        {
          "output_type": "stream",
          "text": [
            "100 loops, best of 3: 19.7 ms per loop\n"
          ],
          "name": "stdout"
        }
      ]
    },
    {
      "cell_type": "code",
      "metadata": {
        "id": "CUW8ecrdpIts",
        "outputId": "89b7ed05-6e65-4eec-e656-a28d76d197da",
        "colab": {
          "base_uri": "https://localhost:8080/",
          "height": 34
        }
      },
      "source": [
        "#@title Consulta 8) (Produto  ⋈_(IDProduto=IDProduto)  Ordem)  ⋈_(IDFornecedor=IDFornecedor)  Fornecedor\n",
        "\n",
        "# Declara query 8\n",
        "q8 = \"SELECT p.ID_Produto, p.ID_Fornecedor, f.Nome as Nome_Fornecedor, o.ID_Ordem, o.ID_Cliente, o.Data \\\n",
        "      FROM Produto as p \\\n",
        "      JOIN Ordem as o ON p.ID_Produto = o.ID_Produto \\\n",
        "      JOIN Fornecedor as f ON p.ID_Fornecedor = p.ID_Fornecedor\"\n",
        "\n",
        "# Avalia tempo gasto na consulta para projetar a jução de Produto, Ordem e Fornecedor\n",
        "%timeit pd.read_sql(q8, con = engine)\n"
      ],
      "execution_count": 48,
      "outputs": [
        {
          "output_type": "stream",
          "text": [
            "10 loops, best of 3: 150 ms per loop\n"
          ],
          "name": "stdout"
        }
      ]
    },
    {
      "cell_type": "code",
      "metadata": {
        "id": "Q0xfwbplpIzL",
        "outputId": "1d4f47f8-34a9-4442-c6a9-59ff68affa81",
        "colab": {
          "base_uri": "https://localhost:8080/",
          "height": 34
        }
      },
      "source": [
        "#@title Consulta 9) J_(COUNT IDCliente) (Cliente  ⋈_(IDCliente=IDCliente)  Ordem) \n",
        "\n",
        "# Declara query 9\n",
        "q9 = \"SELECT c.ID_Cliente, c.Nome, COUNT(o.ID_Ordem) as Quantidade_de_Ordens  \\\n",
        "                         FROM Cliente as c \\\n",
        "                         JOIN Ordem as o ON c.ID_Cliente = o.ID_Cliente \\\n",
        "                         GROUP BY c.ID_Cliente \\\n",
        "                         ORDER BY Quantidade_de_Ordens DESC\"\n",
        "\n",
        "# Avalia tempo gasto na consulta para calcular a quantidade de ordens por cliente\n",
        "%timeit pd.read_sql(q9, con = engine)\n"
      ],
      "execution_count": 49,
      "outputs": [
        {
          "output_type": "stream",
          "text": [
            "100 loops, best of 3: 3.51 ms per loop\n"
          ],
          "name": "stdout"
        }
      ]
    },
    {
      "cell_type": "code",
      "metadata": {
        "id": "1bgkBvAGpI4U",
        "outputId": "2641e9d2-39d8-4aa1-f16c-e7ebc6e7fbf5",
        "colab": {
          "base_uri": "https://localhost:8080/",
          "height": 34
        }
      },
      "source": [
        "#@title Consulta 10) J_(COUNT IDProduto) (Fornecedor  ⋈_(IDFornecedor=IDFornecedor)  Produto)\n",
        "\n",
        "# Declara query 10\n",
        "q10 = \"SELECT f.ID_Fornecedor, f.Nome as Nome_Fornecedor, COUNT(p.ID_Produto) as Quantidade_de_Produtos \\\n",
        "       FROM Fornecedor as f \\\n",
        "       JOIN Produto as p ON f.ID_Fornecedor = p.ID_Fornecedor \\\n",
        "       GROUP BY f.ID_Fornecedor \\\n",
        "       ORDER BY Quantidade_de_Produtos DESC\"\n",
        "\n",
        "# Consulta para Calcular a quantidade de produtos por fornecedor\n",
        "%timeit pd.read_sql(q10, con = engine)\n"
      ],
      "execution_count": 50,
      "outputs": [
        {
          "output_type": "stream",
          "text": [
            "1000 loops, best of 3: 1.96 ms per loop\n"
          ],
          "name": "stdout"
        }
      ]
    }
  ]
}